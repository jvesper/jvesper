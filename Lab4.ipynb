{
 "cells": [
  {
   "cell_type": "code",
   "execution_count": 62,
   "metadata": {},
   "outputs": [],
   "source": [
    "## Jennifer Vesper - Lab 4 - DAT 301 ##"
   ]
  },
  {
   "cell_type": "markdown",
   "metadata": {},
   "source": [
    "# LAB 4\n",
    "# Webscraping\n",
    "\n",
    "\n",
    "In this lab you are supposed to write a code that webscrapes data from the website <a href=\"http://books.toscrape.com\">http://books.toscrape.com</a>. This website was made for the purpose of practicing webscraping.<br>\n",
    "In fact, the code is already prepared for you and you just need to replace the commented text: <br> \n",
    "<font color=#339988><i><b>\n",
    "\\#YOUR CODE HERE!!!</b></i></font> <br>\n",
    "with appropriate codes.\n",
    "\n",
    "**When you are done, submit both your modified Lab4.ipynb file and its html version Lab4.html. To convert ipynb to html, inside Jupyter dashboard (where your ipynb file is open), go to File $\\to$ Donwload as $\\to$ HTML (.html)**"
   ]
  },
  {
   "cell_type": "code",
   "execution_count": 63,
   "metadata": {},
   "outputs": [],
   "source": [
    "# Import necessary libraries\n",
    "import requests\n",
    "from bs4 import BeautifulSoup\n",
    "import pandas as pd\n",
    "import numpy as np\n",
    "import matplotlib.pyplot as plt\n",
    "#import warnings\n",
    "#warnings.filterwarnings('ignore')\n",
    "\n",
    "##above I imported warnings, as i was getting a longgg list of warnings for number 1\n"
   ]
  },
  {
   "cell_type": "code",
   "execution_count": 64,
   "metadata": {},
   "outputs": [
    {
     "data": {
      "text/html": [
       "<div>\n",
       "<style scoped>\n",
       "    .dataframe tbody tr th:only-of-type {\n",
       "        vertical-align: middle;\n",
       "    }\n",
       "\n",
       "    .dataframe tbody tr th {\n",
       "        vertical-align: top;\n",
       "    }\n",
       "\n",
       "    .dataframe thead th {\n",
       "        text-align: right;\n",
       "    }\n",
       "</style>\n",
       "<table border=\"1\" class=\"dataframe\">\n",
       "  <thead>\n",
       "    <tr style=\"text-align: right;\">\n",
       "      <th></th>\n",
       "      <th>Title</th>\n",
       "      <th>Price</th>\n",
       "      <th>Rating</th>\n",
       "      <th>Link</th>\n",
       "    </tr>\n",
       "  </thead>\n",
       "  <tbody>\n",
       "  </tbody>\n",
       "</table>\n",
       "</div>"
      ],
      "text/plain": [
       "Empty DataFrame\n",
       "Columns: [Title, Price, Rating, Link]\n",
       "Index: []"
      ]
     },
     "execution_count": 64,
     "metadata": {},
     "output_type": "execute_result"
    }
   ],
   "source": [
    "# vector of column names to be used in a data frame\n",
    "columnHeaders = ['Title', 'Price', 'Rating', 'Link']\n",
    "\n",
    "\n",
    "\n",
    "#Create an empty pandas dataframe called \"df\" with column headers given in the vector columnHeaders\n",
    "df = pd.DataFrame(columns=columnHeaders)\n",
    "df\n"
   ]
  },
  {
   "cell_type": "markdown",
   "metadata": {},
   "source": [
    "The following code cell contains a while-loop for grabbing different pages.\n",
    "First page to begin with is <a href=\"http://books.toscrape.com/catalogue/page-1.html\">http://books.toscrape.com/catalogue/page-1.html</a> <br>\n",
    "You will need to create a string variable `url` which in the first iteration will be exactly <br>\n",
    "http://books.toscrape.com/catalogue/page-1.html <br>\n",
    "In the second iteration of the while-loop, the `url` variable will take the value <br>\n",
    "http://books.toscrape.com/catalogue/page-2.html, <br>\n",
    "in the third, <br>\n",
    "http://books.toscrape.com/catalogue/page-3.html <br>\n",
    "and so on."
   ]
  },
  {
   "cell_type": "code",
   "execution_count": 37,
   "metadata": {},
   "outputs": [
    {
     "name": "stdout",
     "output_type": "stream",
     "text": [
      "1\n",
      "2\n",
      "3\n",
      "4\n",
      "5\n",
      "6\n",
      "7\n",
      "8\n",
      "9\n",
      "10\n",
      "11\n",
      "12\n",
      "13\n",
      "14\n",
      "15\n",
      "16\n",
      "17\n",
      "18\n",
      "19\n",
      "20\n",
      "21\n",
      "22\n",
      "23\n",
      "24\n",
      "25\n",
      "26\n",
      "27\n",
      "28\n",
      "29\n",
      "30\n",
      "31\n",
      "32\n",
      "33\n",
      "34\n",
      "35\n",
      "36\n",
      "37\n",
      "38\n",
      "39\n",
      "40\n",
      "41\n",
      "42\n",
      "43\n",
      "44\n",
      "45\n",
      "46\n",
      "47\n",
      "48\n",
      "49\n",
      "50\n"
     ]
    }
   ],
   "source": [
    "# Create a counter for the while loop to follow, will denote page number in loop\n",
    "counter = 1\n",
    "\n",
    "\n",
    "# Create a loop to loop through all the different pages on the webpage\n",
    "while counter <= 50:\n",
    "    \n",
    "    # Define a dynamic url to get to the next page in every iteration of the while-loop.\n",
    "    # The variable url should be a string, which changes from iteration to iteration\n",
    "    # in the way described in the markdown cell above\n",
    "   \n",
    "    #so when it iterates through the while loop it increases the page number in string format so it can be concatonated\n",
    "    pageNum = str(counter) + \".html\"   \n",
    "    url = \"http://books.toscrape.com/catalogue/page-\" + pageNum\n",
    "    \n",
    "    \n",
    "    # Use the requests library to send a get-request for the current url\n",
    "    page = requests.get(url)\n",
    "    \n",
    "    # Use Beautiful Soup library to create a soup object that allows us to parse the html content of the page we got\n",
    "    soup = BeautifulSoup(page.content, 'html.parser')\n",
    "    \n",
    "    # Find all the tags that contain the information we would like to collect per book using Beautiful Soup find_all method\n",
    "    # and store them into lists\n",
    "    price = soup.find_all('p', attrs={'class':'price_color'}) # p-tags (paragraphs) whose class is named 'price_color'\n",
    "    title = soup.find_all('h3')  # h3-tags (level 3 headers) \n",
    "    rating = soup.find_all('p', attrs={'class':'star-rating'})  # p-tags whose class is named 'star-rating'\n",
    "    #create a list called 'link' which consists of div-tags (div is one of the html tags), whose class \n",
    "    #is named 'image_container'; this list should be created in similar fashion as lists price, title and rating\n",
    "    ##################\n",
    "    link = soup.find_all('div', attrs = {'class':'image_container'})\n",
    "    ##################\n",
    "    \n",
    "    # Note: The length of the lists created in the last step are all the same, since those specific tags only exist per book.\n",
    "    # iterating through the ranges of the list, append each book's information to the dataframe created earlier\n",
    "    for i in range(len(price)):\n",
    "        df = df.append({'Title': title[i].a.get('title'), 'Price': price[i].get_text(), \n",
    "                        'Rating': rating[i].get('class')[1], 'Link': link[i].a.get('href')}, ignore_index = True)\n",
    "    \n",
    "    #Print Counter to ensure loop is running properly, optional\n",
    "    print(counter)\n",
    "    \n",
    "    #Increase counter at the end of the loop to change the url during next loop iteration\n",
    "    counter = counter + 1"
   ]
  },
  {
   "cell_type": "markdown",
   "metadata": {},
   "source": [
    "### From now on it's about pandas "
   ]
  },
  {
   "cell_type": "code",
   "execution_count": 38,
   "metadata": {},
   "outputs": [
    {
     "name": "stdout",
     "output_type": "stream",
     "text": [
      "                                   Title   Price Rating  \\\n",
      "0                   A Light in the Attic  £51.77  Three   \n",
      "1                     Tipping the Velvet  £53.74    One   \n",
      "2                             Soumission  £50.10    One   \n",
      "3                          Sharp Objects  £47.82   Four   \n",
      "4  Sapiens: A Brief History of Humankind  £54.23   Five   \n",
      "\n",
      "                                                Link  \n",
      "0               a-light-in-the-attic_1000/index.html  \n",
      "1                  tipping-the-velvet_999/index.html  \n",
      "2                          soumission_998/index.html  \n",
      "3                       sharp-objects_997/index.html  \n",
      "4  sapiens-a-brief-history-of-humankind_996/index...  \n"
     ]
    }
   ],
   "source": [
    "# Print the head of the dataframe to sanity check\n",
    "print(df.head())"
   ]
  },
  {
   "cell_type": "code",
   "execution_count": 39,
   "metadata": {},
   "outputs": [
    {
     "name": "stdout",
     "output_type": "stream",
     "text": [
      "                                                 Title   Price Rating  \\\n",
      "995  Alice in Wonderland (Alice's Adventures in Won...  £55.53    One   \n",
      "996   Ajin: Demi-Human, Volume 1 (Ajin: Demi-Human #1)  £57.06   Four   \n",
      "997  A Spy's Devotion (The Regency Spies of London #1)  £16.97   Five   \n",
      "998                1st to Die (Women's Murder Club #1)  £53.98    One   \n",
      "999                 1,000 Places to See Before You Die  £26.08   Five   \n",
      "\n",
      "                                                  Link  \n",
      "995  alice-in-wonderland-alices-adventures-in-wonde...  \n",
      "996  ajin-demi-human-volume-1-ajin-demi-human-1_4/i...  \n",
      "997  a-spys-devotion-the-regency-spies-of-london-1_...  \n",
      "998       1st-to-die-womens-murder-club-1_2/index.html  \n",
      "999     1000-places-to-see-before-you-die_1/index.html  \n"
     ]
    }
   ],
   "source": [
    "# Print the tail of the dataframe to sanity check (there shold be 1000 observations in total, so the last index is 999)\n",
    "print(df.tail())"
   ]
  },
  {
   "cell_type": "markdown",
   "metadata": {},
   "source": [
    "You can see that Price column consists of prices in pounds. The first symbol in each component of this column is £ and the values are of str type (i.e. the entries are strings). Check this by printing the type of 1st entry of the Price column (i.e. run the next cell)."
   ]
  },
  {
   "cell_type": "code",
   "execution_count": 40,
   "metadata": {},
   "outputs": [
    {
     "data": {
      "text/plain": [
       "str"
      ]
     },
     "execution_count": 40,
     "metadata": {},
     "output_type": "execute_result"
    }
   ],
   "source": [
    "type(df['Price'][0])"
   ]
  },
  {
   "cell_type": "markdown",
   "metadata": {},
   "source": [
    "We now want to convert the price into US dollars, assuming that one pound is 1.3 dollars (£1 = $1.3)."
   ]
  },
  {
   "cell_type": "code",
   "execution_count": 41,
   "metadata": {},
   "outputs": [
    {
     "data": {
      "text/html": [
       "<div>\n",
       "<style scoped>\n",
       "    .dataframe tbody tr th:only-of-type {\n",
       "        vertical-align: middle;\n",
       "    }\n",
       "\n",
       "    .dataframe tbody tr th {\n",
       "        vertical-align: top;\n",
       "    }\n",
       "\n",
       "    .dataframe thead th {\n",
       "        text-align: right;\n",
       "    }\n",
       "</style>\n",
       "<table border=\"1\" class=\"dataframe\">\n",
       "  <thead>\n",
       "    <tr style=\"text-align: right;\">\n",
       "      <th></th>\n",
       "      <th>Title</th>\n",
       "      <th>Price</th>\n",
       "      <th>Rating</th>\n",
       "      <th>Link</th>\n",
       "    </tr>\n",
       "  </thead>\n",
       "  <tbody>\n",
       "    <tr>\n",
       "      <th>0</th>\n",
       "      <td>A Light in the Attic</td>\n",
       "      <td>51.77</td>\n",
       "      <td>Three</td>\n",
       "      <td>a-light-in-the-attic_1000/index.html</td>\n",
       "    </tr>\n",
       "    <tr>\n",
       "      <th>1</th>\n",
       "      <td>Tipping the Velvet</td>\n",
       "      <td>53.74</td>\n",
       "      <td>One</td>\n",
       "      <td>tipping-the-velvet_999/index.html</td>\n",
       "    </tr>\n",
       "    <tr>\n",
       "      <th>2</th>\n",
       "      <td>Soumission</td>\n",
       "      <td>50.10</td>\n",
       "      <td>One</td>\n",
       "      <td>soumission_998/index.html</td>\n",
       "    </tr>\n",
       "  </tbody>\n",
       "</table>\n",
       "</div>"
      ],
      "text/plain": [
       "                  Title  Price Rating                                  Link\n",
       "0  A Light in the Attic  51.77  Three  a-light-in-the-attic_1000/index.html\n",
       "1    Tipping the Velvet  53.74    One     tipping-the-velvet_999/index.html\n",
       "2            Soumission  50.10    One             soumission_998/index.html"
      ]
     },
     "execution_count": 41,
     "metadata": {},
     "output_type": "execute_result"
    }
   ],
   "source": [
    "#drop the first character (i.e. symbol £) from all entries of column Price\n",
    "df['Price'] = df['Price'].str[1:]\n",
    "\n",
    "#convert the type of Price entries from strings (str) to reals (float)\n",
    "df['Price'] = df['Price'].astype(float)\n",
    "\n",
    "df.head(3)"
   ]
  },
  {
   "cell_type": "code",
   "execution_count": 43,
   "metadata": {},
   "outputs": [
    {
     "data": {
      "text/html": [
       "<div>\n",
       "<style scoped>\n",
       "    .dataframe tbody tr th:only-of-type {\n",
       "        vertical-align: middle;\n",
       "    }\n",
       "\n",
       "    .dataframe tbody tr th {\n",
       "        vertical-align: top;\n",
       "    }\n",
       "\n",
       "    .dataframe thead th {\n",
       "        text-align: right;\n",
       "    }\n",
       "</style>\n",
       "<table border=\"1\" class=\"dataframe\">\n",
       "  <thead>\n",
       "    <tr style=\"text-align: right;\">\n",
       "      <th></th>\n",
       "      <th>Title</th>\n",
       "      <th>Price</th>\n",
       "      <th>Rating</th>\n",
       "      <th>Link</th>\n",
       "    </tr>\n",
       "  </thead>\n",
       "  <tbody>\n",
       "    <tr>\n",
       "      <th>0</th>\n",
       "      <td>A Light in the Attic</td>\n",
       "      <td>87.49</td>\n",
       "      <td>Three</td>\n",
       "      <td>a-light-in-the-attic_1000/index.html</td>\n",
       "    </tr>\n",
       "    <tr>\n",
       "      <th>1</th>\n",
       "      <td>Tipping the Velvet</td>\n",
       "      <td>90.82</td>\n",
       "      <td>One</td>\n",
       "      <td>tipping-the-velvet_999/index.html</td>\n",
       "    </tr>\n",
       "    <tr>\n",
       "      <th>2</th>\n",
       "      <td>Soumission</td>\n",
       "      <td>84.67</td>\n",
       "      <td>One</td>\n",
       "      <td>soumission_998/index.html</td>\n",
       "    </tr>\n",
       "    <tr>\n",
       "      <th>3</th>\n",
       "      <td>Sharp Objects</td>\n",
       "      <td>80.82</td>\n",
       "      <td>Four</td>\n",
       "      <td>sharp-objects_997/index.html</td>\n",
       "    </tr>\n",
       "    <tr>\n",
       "      <th>4</th>\n",
       "      <td>Sapiens: A Brief History of Humankind</td>\n",
       "      <td>91.65</td>\n",
       "      <td>Five</td>\n",
       "      <td>sapiens-a-brief-history-of-humankind_996/index...</td>\n",
       "    </tr>\n",
       "  </tbody>\n",
       "</table>\n",
       "</div>"
      ],
      "text/plain": [
       "                                   Title  Price Rating  \\\n",
       "0                   A Light in the Attic  87.49  Three   \n",
       "1                     Tipping the Velvet  90.82    One   \n",
       "2                             Soumission  84.67    One   \n",
       "3                          Sharp Objects  80.82   Four   \n",
       "4  Sapiens: A Brief History of Humankind  91.65   Five   \n",
       "\n",
       "                                                Link  \n",
       "0               a-light-in-the-attic_1000/index.html  \n",
       "1                  tipping-the-velvet_999/index.html  \n",
       "2                          soumission_998/index.html  \n",
       "3                       sharp-objects_997/index.html  \n",
       "4  sapiens-a-brief-history-of-humankind_996/index...  "
      ]
     },
     "execution_count": 43,
     "metadata": {},
     "output_type": "execute_result"
    }
   ],
   "source": [
    "#convert prices from pounds to dollars (change values of Price column by factor of 1.3)\n",
    "\n",
    "df['Price'] = round(df['Price'] * 1.3, 2) #multiply values by 1.3, then *round* to 2 decimal places using round function\n",
    "df.head()"
   ]
  },
  {
   "cell_type": "code",
   "execution_count": 44,
   "metadata": {},
   "outputs": [
    {
     "data": {
      "text/html": [
       "<div>\n",
       "<style scoped>\n",
       "    .dataframe tbody tr th:only-of-type {\n",
       "        vertical-align: middle;\n",
       "    }\n",
       "\n",
       "    .dataframe tbody tr th {\n",
       "        vertical-align: top;\n",
       "    }\n",
       "\n",
       "    .dataframe thead th {\n",
       "        text-align: right;\n",
       "    }\n",
       "</style>\n",
       "<table border=\"1\" class=\"dataframe\">\n",
       "  <thead>\n",
       "    <tr style=\"text-align: right;\">\n",
       "      <th></th>\n",
       "      <th>Title</th>\n",
       "      <th>Price</th>\n",
       "      <th>Rating</th>\n",
       "      <th>Link</th>\n",
       "    </tr>\n",
       "  </thead>\n",
       "  <tbody>\n",
       "    <tr>\n",
       "      <th>0</th>\n",
       "      <td>A Light in the Attic</td>\n",
       "      <td>87.49</td>\n",
       "      <td>Three</td>\n",
       "      <td>a-light-in-the-attic_1000/index.html</td>\n",
       "    </tr>\n",
       "    <tr>\n",
       "      <th>1</th>\n",
       "      <td>Tipping the Velvet</td>\n",
       "      <td>90.82</td>\n",
       "      <td>One</td>\n",
       "      <td>tipping-the-velvet_999/index.html</td>\n",
       "    </tr>\n",
       "    <tr>\n",
       "      <th>2</th>\n",
       "      <td>Soumission</td>\n",
       "      <td>84.67</td>\n",
       "      <td>One</td>\n",
       "      <td>soumission_998/index.html</td>\n",
       "    </tr>\n",
       "  </tbody>\n",
       "</table>\n",
       "</div>"
      ],
      "text/plain": [
       "                  Title  Price Rating                                  Link\n",
       "0  A Light in the Attic  87.49  Three  a-light-in-the-attic_1000/index.html\n",
       "1    Tipping the Velvet  90.82    One     tipping-the-velvet_999/index.html\n",
       "2            Soumission  84.67    One             soumission_998/index.html"
      ]
     },
     "execution_count": 44,
     "metadata": {},
     "output_type": "execute_result"
    }
   ],
   "source": [
    "#checking whether conversion was correct (compare it with the output of the previous cell)\n",
    "df.head(3)"
   ]
  },
  {
   "cell_type": "code",
   "execution_count": 45,
   "metadata": {},
   "outputs": [
    {
     "data": {
      "text/html": [
       "<div>\n",
       "<style scoped>\n",
       "    .dataframe tbody tr th:only-of-type {\n",
       "        vertical-align: middle;\n",
       "    }\n",
       "\n",
       "    .dataframe tbody tr th {\n",
       "        vertical-align: top;\n",
       "    }\n",
       "\n",
       "    .dataframe thead th {\n",
       "        text-align: right;\n",
       "    }\n",
       "</style>\n",
       "<table border=\"1\" class=\"dataframe\">\n",
       "  <thead>\n",
       "    <tr style=\"text-align: right;\">\n",
       "      <th></th>\n",
       "      <th>Title</th>\n",
       "      <th>$Price</th>\n",
       "      <th>Rating</th>\n",
       "      <th>Link</th>\n",
       "    </tr>\n",
       "  </thead>\n",
       "  <tbody>\n",
       "    <tr>\n",
       "      <th>0</th>\n",
       "      <td>A Light in the Attic</td>\n",
       "      <td>87.49</td>\n",
       "      <td>Three</td>\n",
       "      <td>a-light-in-the-attic_1000/index.html</td>\n",
       "    </tr>\n",
       "    <tr>\n",
       "      <th>1</th>\n",
       "      <td>Tipping the Velvet</td>\n",
       "      <td>90.82</td>\n",
       "      <td>One</td>\n",
       "      <td>tipping-the-velvet_999/index.html</td>\n",
       "    </tr>\n",
       "    <tr>\n",
       "      <th>2</th>\n",
       "      <td>Soumission</td>\n",
       "      <td>84.67</td>\n",
       "      <td>One</td>\n",
       "      <td>soumission_998/index.html</td>\n",
       "    </tr>\n",
       "    <tr>\n",
       "      <th>3</th>\n",
       "      <td>Sharp Objects</td>\n",
       "      <td>80.82</td>\n",
       "      <td>Four</td>\n",
       "      <td>sharp-objects_997/index.html</td>\n",
       "    </tr>\n",
       "    <tr>\n",
       "      <th>4</th>\n",
       "      <td>Sapiens: A Brief History of Humankind</td>\n",
       "      <td>91.65</td>\n",
       "      <td>Five</td>\n",
       "      <td>sapiens-a-brief-history-of-humankind_996/index...</td>\n",
       "    </tr>\n",
       "    <tr>\n",
       "      <th>...</th>\n",
       "      <td>...</td>\n",
       "      <td>...</td>\n",
       "      <td>...</td>\n",
       "      <td>...</td>\n",
       "    </tr>\n",
       "    <tr>\n",
       "      <th>995</th>\n",
       "      <td>Alice in Wonderland (Alice's Adventures in Won...</td>\n",
       "      <td>93.85</td>\n",
       "      <td>One</td>\n",
       "      <td>alice-in-wonderland-alices-adventures-in-wonde...</td>\n",
       "    </tr>\n",
       "    <tr>\n",
       "      <th>996</th>\n",
       "      <td>Ajin: Demi-Human, Volume 1 (Ajin: Demi-Human #1)</td>\n",
       "      <td>96.43</td>\n",
       "      <td>Four</td>\n",
       "      <td>ajin-demi-human-volume-1-ajin-demi-human-1_4/i...</td>\n",
       "    </tr>\n",
       "    <tr>\n",
       "      <th>997</th>\n",
       "      <td>A Spy's Devotion (The Regency Spies of London #1)</td>\n",
       "      <td>28.68</td>\n",
       "      <td>Five</td>\n",
       "      <td>a-spys-devotion-the-regency-spies-of-london-1_...</td>\n",
       "    </tr>\n",
       "    <tr>\n",
       "      <th>998</th>\n",
       "      <td>1st to Die (Women's Murder Club #1)</td>\n",
       "      <td>91.22</td>\n",
       "      <td>One</td>\n",
       "      <td>1st-to-die-womens-murder-club-1_2/index.html</td>\n",
       "    </tr>\n",
       "    <tr>\n",
       "      <th>999</th>\n",
       "      <td>1,000 Places to See Before You Die</td>\n",
       "      <td>44.07</td>\n",
       "      <td>Five</td>\n",
       "      <td>1000-places-to-see-before-you-die_1/index.html</td>\n",
       "    </tr>\n",
       "  </tbody>\n",
       "</table>\n",
       "<p>1000 rows × 4 columns</p>\n",
       "</div>"
      ],
      "text/plain": [
       "                                                 Title  $Price Rating  \\\n",
       "0                                 A Light in the Attic   87.49  Three   \n",
       "1                                   Tipping the Velvet   90.82    One   \n",
       "2                                           Soumission   84.67    One   \n",
       "3                                        Sharp Objects   80.82   Four   \n",
       "4                Sapiens: A Brief History of Humankind   91.65   Five   \n",
       "..                                                 ...     ...    ...   \n",
       "995  Alice in Wonderland (Alice's Adventures in Won...   93.85    One   \n",
       "996   Ajin: Demi-Human, Volume 1 (Ajin: Demi-Human #1)   96.43   Four   \n",
       "997  A Spy's Devotion (The Regency Spies of London #1)   28.68   Five   \n",
       "998                1st to Die (Women's Murder Club #1)   91.22    One   \n",
       "999                 1,000 Places to See Before You Die   44.07   Five   \n",
       "\n",
       "                                                  Link  \n",
       "0                 a-light-in-the-attic_1000/index.html  \n",
       "1                    tipping-the-velvet_999/index.html  \n",
       "2                            soumission_998/index.html  \n",
       "3                         sharp-objects_997/index.html  \n",
       "4    sapiens-a-brief-history-of-humankind_996/index...  \n",
       "..                                                 ...  \n",
       "995  alice-in-wonderland-alices-adventures-in-wonde...  \n",
       "996  ajin-demi-human-volume-1-ajin-demi-human-1_4/i...  \n",
       "997  a-spys-devotion-the-regency-spies-of-london-1_...  \n",
       "998       1st-to-die-womens-murder-club-1_2/index.html  \n",
       "999     1000-places-to-see-before-you-die_1/index.html  \n",
       "\n",
       "[1000 rows x 4 columns]"
      ]
     },
     "execution_count": 45,
     "metadata": {},
     "output_type": "execute_result"
    }
   ],
   "source": [
    "#change column name 'Price' into '$Price'\n",
    "df.rename(columns={'Price':'$Price'})"
   ]
  },
  {
   "cell_type": "markdown",
   "metadata": {},
   "source": [
    "### In the following set of cells you need to find the title and the price of the least expensive book and the most expensive book"
   ]
  },
  {
   "cell_type": "code",
   "execution_count": 47,
   "metadata": {},
   "outputs": [
    {
     "data": {
      "text/html": [
       "<div>\n",
       "<style scoped>\n",
       "    .dataframe tbody tr th:only-of-type {\n",
       "        vertical-align: middle;\n",
       "    }\n",
       "\n",
       "    .dataframe tbody tr th {\n",
       "        vertical-align: top;\n",
       "    }\n",
       "\n",
       "    .dataframe thead th {\n",
       "        text-align: right;\n",
       "    }\n",
       "</style>\n",
       "<table border=\"1\" class=\"dataframe\">\n",
       "  <thead>\n",
       "    <tr style=\"text-align: right;\">\n",
       "      <th></th>\n",
       "      <th>Title</th>\n",
       "      <th>Price</th>\n",
       "      <th>Rating</th>\n",
       "      <th>Link</th>\n",
       "    </tr>\n",
       "  </thead>\n",
       "  <tbody>\n",
       "    <tr>\n",
       "      <th>0</th>\n",
       "      <td>An Abundance of Katherines</td>\n",
       "      <td>16.90</td>\n",
       "      <td>Five</td>\n",
       "      <td>an-abundance-of-katherines_362/index.html</td>\n",
       "    </tr>\n",
       "    <tr>\n",
       "      <th>1</th>\n",
       "      <td>The Origin of Species</td>\n",
       "      <td>16.91</td>\n",
       "      <td>Four</td>\n",
       "      <td>the-origin-of-species_499/index.html</td>\n",
       "    </tr>\n",
       "    <tr>\n",
       "      <th>2</th>\n",
       "      <td>The Tipping Point: How Little Things Can Make ...</td>\n",
       "      <td>16.94</td>\n",
       "      <td>Two</td>\n",
       "      <td>the-tipping-point-how-little-things-can-make-a...</td>\n",
       "    </tr>\n",
       "    <tr>\n",
       "      <th>3</th>\n",
       "      <td>Patience</td>\n",
       "      <td>17.17</td>\n",
       "      <td>Three</td>\n",
       "      <td>patience_916/index.html</td>\n",
       "    </tr>\n",
       "    <tr>\n",
       "      <th>4</th>\n",
       "      <td>Greek Mythic History</td>\n",
       "      <td>17.29</td>\n",
       "      <td>Five</td>\n",
       "      <td>greek-mythic-history_698/index.html</td>\n",
       "    </tr>\n",
       "    <tr>\n",
       "      <th>5</th>\n",
       "      <td>The Fellowship of the Ring (The Lord of the Ri...</td>\n",
       "      <td>17.36</td>\n",
       "      <td>Two</td>\n",
       "      <td>the-fellowship-of-the-ring-the-lord-of-the-rin...</td>\n",
       "    </tr>\n",
       "    <tr>\n",
       "      <th>6</th>\n",
       "      <td>History of Beauty</td>\n",
       "      <td>17.39</td>\n",
       "      <td>Four</td>\n",
       "      <td>history-of-beauty_521/index.html</td>\n",
       "    </tr>\n",
       "    <tr>\n",
       "      <th>7</th>\n",
       "      <td>The Lucifer Effect: Understanding How Good Peo...</td>\n",
       "      <td>17.58</td>\n",
       "      <td>One</td>\n",
       "      <td>the-lucifer-effect-understanding-how-good-peop...</td>\n",
       "    </tr>\n",
       "    <tr>\n",
       "      <th>8</th>\n",
       "      <td>NaNo What Now? Finding your editing process, r...</td>\n",
       "      <td>17.59</td>\n",
       "      <td>Four</td>\n",
       "      <td>nano-what-now-finding-your-editing-process-rev...</td>\n",
       "    </tr>\n",
       "    <tr>\n",
       "      <th>9</th>\n",
       "      <td>Pet Sematary</td>\n",
       "      <td>17.85</td>\n",
       "      <td>Three</td>\n",
       "      <td>pet-sematary_726/index.html</td>\n",
       "    </tr>\n",
       "  </tbody>\n",
       "</table>\n",
       "</div>"
      ],
      "text/plain": [
       "                                               Title  Price Rating  \\\n",
       "0                         An Abundance of Katherines  16.90   Five   \n",
       "1                              The Origin of Species  16.91   Four   \n",
       "2  The Tipping Point: How Little Things Can Make ...  16.94    Two   \n",
       "3                                           Patience  17.17  Three   \n",
       "4                               Greek Mythic History  17.29   Five   \n",
       "5  The Fellowship of the Ring (The Lord of the Ri...  17.36    Two   \n",
       "6                                  History of Beauty  17.39   Four   \n",
       "7  The Lucifer Effect: Understanding How Good Peo...  17.58    One   \n",
       "8  NaNo What Now? Finding your editing process, r...  17.59   Four   \n",
       "9                                       Pet Sematary  17.85  Three   \n",
       "\n",
       "                                                Link  \n",
       "0          an-abundance-of-katherines_362/index.html  \n",
       "1               the-origin-of-species_499/index.html  \n",
       "2  the-tipping-point-how-little-things-can-make-a...  \n",
       "3                            patience_916/index.html  \n",
       "4                greek-mythic-history_698/index.html  \n",
       "5  the-fellowship-of-the-ring-the-lord-of-the-rin...  \n",
       "6                   history-of-beauty_521/index.html  \n",
       "7  the-lucifer-effect-understanding-how-good-peop...  \n",
       "8  nano-what-now-finding-your-editing-process-rev...  \n",
       "9                        pet-sematary_726/index.html  "
      ]
     },
     "execution_count": 47,
     "metadata": {},
     "output_type": "execute_result"
    }
   ],
   "source": [
    "# Create a data frame df_sorted which consists of data from df, sorted by price \n",
    "# from the cheapest to the most expensive (i.e. in ascending order) \n",
    "\n",
    "sortedDF = df.sort_values(by = 'Price')\n",
    "\n",
    "#print first 10 rows of the data frame df_sorted (note the index labels, which are from the original data frame)\n",
    "\n",
    "sortedDF.head(10)\n",
    "\n",
    "# Reset the index so that df_sorted is re-indexed 0,1,2,3,... with the new order of the list\n",
    "df_sorted = df_sorted.reset_index(drop=True)\n",
    "df_sorted.head(10) #print first 10 rows of df_sorted"
   ]
  },
  {
   "cell_type": "code",
   "execution_count": 50,
   "metadata": {},
   "outputs": [
    {
     "name": "stdout",
     "output_type": "stream",
     "text": [
      "An Abundance of Katherines\n",
      "16.9\n"
     ]
    }
   ],
   "source": [
    "# Print the title of the cheapest book\n",
    "print(df_sorted['Title'][0])\n",
    "\n",
    "# Print the price of the cheapest book\n",
    "print(df_sorted['Price'][0])"
   ]
  },
  {
   "cell_type": "code",
   "execution_count": 51,
   "metadata": {},
   "outputs": [
    {
     "name": "stdout",
     "output_type": "stream",
     "text": [
      "The Perfect Play (Play by Play #1)\n",
      "101.39\n"
     ]
    }
   ],
   "source": [
    "# Print the title of the most expensive book\n",
    "mostExp = len(df_sorted)-1\n",
    "print(df_sorted['Title'] [mostExp])\n",
    "\n",
    "# Print the price of the most expensive book\n",
    "\n",
    "print(df_sorted['Price'] [mostExp])"
   ]
  },
  {
   "cell_type": "markdown",
   "metadata": {},
   "source": [
    "### In this part you need to plot the histogram of prices, as well as the bar plot of frequencies of books with various star-rating categories"
   ]
  },
  {
   "cell_type": "code",
   "execution_count": 55,
   "metadata": {},
   "outputs": [
    {
     "data": {
      "image/png": "[encoded data removed]",
      "text/plain": [
       "<Figure size 640x480 with 1 Axes>"
      ]
     },
     "metadata": {},
     "output_type": "display_data"
    }
   ],
   "source": [
    "#Use matplotlib to plot a histogram of prices (in dollars) with 20 bins\n",
    "n, bins, patches = plt.hist(df['Price'], bins = 20, facecolor = 'purple', alpha = 0.3)\n",
    "plt.show()"
   ]
  },
  {
   "cell_type": "code",
   "execution_count": 56,
   "metadata": {
    "scrolled": true
   },
   "outputs": [
    {
     "name": "stdout",
     "output_type": "stream",
     "text": [
      "One Star: 226\n",
      "Two Star: 196\n",
      "Three Star: 203\n",
      "Four Star: 179\n",
      "Five Star: 196\n"
     ]
    }
   ],
   "source": [
    "# finding the rating frequency distribution (count of books) for all star ratings.\n",
    "# Rating Distribution found by getting the length of the \"list\" where the rating value equals the specified rating\n",
    "print(\"One Star: \" + str(len(df[df['Rating'] == 'One'])))\n",
    "print(\"Two Star: \" + str(len(df[df['Rating'] == 'Two'])))\n",
    "print(\"Three Star: \" + str(len(df[df['Rating'] == 'Three'])))\n",
    "print(\"Four Star: \" + str(len(df[df['Rating'] == 'Four'])))\n",
    "print(\"Five Star: \" + str(len(df[df['Rating'] == 'Five'])))"
   ]
  },
  {
   "cell_type": "code",
   "execution_count": 59,
   "metadata": {
    "scrolled": true
   },
   "outputs": [
    {
     "data": {
      "text/plain": [
       "Text(0.5, 1.0, 'Number of Books per Rating')"
      ]
     },
     "execution_count": 59,
     "metadata": {},
     "output_type": "execute_result"
    },
    {
     "data": {
      "image/png": "[encoded data removed]",
      "text/plain": [
       "<Figure size 640x480 with 1 Axes>"
      ]
     },
     "metadata": {},
     "output_type": "display_data"
    }
   ],
   "source": [
    "# Create a list for the x and y axis labels for a bar plot\n",
    "x_bar = ['One', 'Two', 'Three', 'Four', 'Five']\n",
    "y_bar = [len(df[df['Rating'] == 'One']), len(df[df['Rating'] == 'Two']), len(df[df['Rating'] == 'Three']),\n",
    "        len(df[df['Rating'] == 'Four']), len(df[df['Rating'] == 'Five'])]\n",
    "\n",
    "\n",
    "# Use matplotlib to plot the bar plot\n",
    "plot = plt.figure()\n",
    "axis = plot.add_axes([0,0,1,1])\n",
    "\n",
    "axis.bar(x_bar, y_bar)\n",
    "\n",
    "# Change the x axis title, y axis title, and main title of plot\n",
    "plt.xlabel(\"Star Rating\")\n",
    "plt.ylabel(\"Number of Books\")\n",
    "plt.title(\"Number of Books per Rating\")\n",
    "\n",
    "#plt.show()  #needed in script files .py (eg in spyder)\n"
   ]
  },
  {
   "cell_type": "markdown",
   "metadata": {},
   "source": [
    "### That's it! You are done!\n"
   ]
  },
  {
   "cell_type": "markdown",
   "metadata": {},
   "source": [
    "### REMINDER: as mentioned at the beginning of this file, when you are done, submit both your modified Lab4.ipynb file and its html version Lab4.html. To convert ipynb to html, inside Jupyter dashbord (where your ipynb is open), go to File  →  Donwload as  →  HTML (.html)\n",
    "\n",
    "### IMPORTANT: Save to html AFTER you run all the cells and the output is printed out.\n",
    "\n",
    "<br>\n"
   ]
  },
  {
   "cell_type": "markdown",
   "metadata": {},
   "source": [
    "\n",
    "### Appendix\n",
    "\n",
    "\n",
    "##### Here is some more code, for getting the number of books in each category (get url links from main page for all catgories, go through this links and get the number of books per category)"
   ]
  },
  {
   "cell_type": "code",
   "execution_count": 60,
   "metadata": {},
   "outputs": [],
   "source": [
    "# Create a new data frame for catgories with specific column headers\n",
    "columnHeaders = ['Category','Count']\n",
    "cat_df = pd.DataFrame(columns = columnHeaders)\n",
    "\n",
    "# Define main url to get all categories, get the page requested, and turn html content into a soup object\n",
    "url = 'http://books.toscrape.com/'\n",
    "page = requests.get(url)\n",
    "soup = BeautifulSoup(page.content, 'html.parser')\n",
    "\n",
    "# Find the section tag that contains all the category urls\n",
    "categories = soup.find('ul', attrs={'class':'nav nav-list'})\n",
    "\n",
    "# Find all the tags, within the categories variable, that contains the links\n",
    "categories_list = categories.find_all('a')\n",
    "\n",
    "# Get all the links from this list of tags\n",
    "for i in range(len(categories_list)):\n",
    "    categories_list[i] = categories_list[i].get('href')\n",
    "\n",
    "# Iterate through the list of category htmls\n",
    "for i in categories_list:\n",
    "    # For each category, go to the page associted with that category and turn it into a soup object\n",
    "    url = 'http://books.toscrape.com/' + i\n",
    "    page = requests.get(url)\n",
    "    soup = BeautifulSoup(page.content, 'html.parser')\n",
    "    \n",
    "    # Find the category name and number of books within that category\n",
    "    cat_title = soup.find('div', attrs={'class':'page-header action'}).h1.get_text()\n",
    "    num_books = soup.find('form', attrs={'class':'form-horizontal'}).strong.get_text()\n",
    "    \n",
    "    # Append to the dataframe the category and number of books\n",
    "    cat_df = cat_df.append({'Category': cat_title, 'Count': num_books}, ignore_index = True)"
   ]
  },
  {
   "cell_type": "markdown",
   "metadata": {},
   "source": [
    "What is the distribution of books within each category? Here is the answer."
   ]
  },
  {
   "cell_type": "code",
   "execution_count": 61,
   "metadata": {},
   "outputs": [
    {
     "name": "stdout",
     "output_type": "stream",
     "text": [
      "              Category  Count\n",
      "0                Crime      1\n",
      "1              Erotica      1\n",
      "2            Parenting      1\n",
      "3        Adult Fiction      1\n",
      "4             Suspense      1\n",
      "5             Academic      1\n",
      "6               Novels      1\n",
      "7             Cultural      1\n",
      "8        Short Stories      1\n",
      "9           Paranormal      1\n",
      "10          Historical      2\n",
      "11           Christian      3\n",
      "12        Contemporary      3\n",
      "13            Politics      3\n",
      "14              Health      4\n",
      "15           Self Help      5\n",
      "16           Biography      5\n",
      "17    Sports and Games      5\n",
      "18           New Adult      6\n",
      "19        Spirituality      6\n",
      "20   Christian Fiction      6\n",
      "21          Psychology      7\n",
      "22            Religion      7\n",
      "23                 Art      8\n",
      "24       Autobiography      9\n",
      "25               Humor     10\n",
      "26            Thriller     11\n",
      "27              Travel     11\n",
      "28          Philosophy     11\n",
      "29            Business     12\n",
      "30               Music     13\n",
      "31             Science     14\n",
      "32     Science Fiction     16\n",
      "33              Horror     17\n",
      "34      Womens Fiction     17\n",
      "35             History     18\n",
      "36            Classics     19\n",
      "37              Poetry     19\n",
      "38  Historical Fiction     26\n",
      "39           Childrens     29\n",
      "40      Food and Drink     30\n",
      "41             Mystery     32\n",
      "42             Romance     35\n",
      "43             Fantasy     48\n",
      "44         Young Adult     54\n",
      "45             Fiction     65\n",
      "46       Add a comment     67\n",
      "47      Sequential Art     75\n",
      "48          Nonfiction    110\n",
      "49             Default    152\n",
      "50               Books   1000\n"
     ]
    }
   ],
   "source": [
    "# Sort the category list by count of books and print out the distribution\n",
    "cat_df['Count'] = cat_df['Count'].astype(int)\n",
    "cat_df = cat_df.sort_values(by=['Count'])\n",
    "cat_df = cat_df.reset_index(drop=True)\n",
    "print(cat_df)"
   ]
  },
  {
   "cell_type": "markdown",
   "metadata": {},
   "source": [
    "### REMINDER: as mentioned at the beginning of this file, when you are done, submit both your modified Lab4.ipynb file and its html version Lab4.html. To convert ipynb to html, inside Jupyter dashbord (where your ipynb is open), go to File  →  Donwload as  →  HTML (.html)\n",
    "\n",
    "### IMPORTANT: Save to html AFTER you run all the cells and the output is printed out.\n",
    "\n",
    "\n"
   ]
  }
 ],
 "metadata": {
  "kernelspec": {
   "display_name": "Python 3 (ipykernel)",
   "language": "python",
   "name": "python3"
  },
  "language_info": {
   "codemirror_mode": {
    "name": "ipython",
    "version": 3
   },
   "file_extension": ".py",
   "mimetype": "text/x-python",
   "name": "python",
   "nbconvert_exporter": "python",
   "pygments_lexer": "ipython3",
   "version": "3.9.13"
  }
 },
 "nbformat": 4,
 "nbformat_minor": 2
}
